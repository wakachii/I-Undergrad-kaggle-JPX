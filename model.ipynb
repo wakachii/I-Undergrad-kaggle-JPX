{
 "cells": [
  {
   "cell_type": "code",
   "execution_count": 152,
   "metadata": {},
   "outputs": [],
   "source": [
    "#import関連\n",
    "import os\n",
    "for dirname, _, filenames in os.walk('/kaggle/input'):\n",
    "    for filename in filenames:\n",
    "        print(os.path.join(dirname, filename))\n",
    "from pathlib import Path\n",
    "from decimal import ROUND_HALF_UP, Decimal\n",
    "\n",
    "import pandas as pd\n",
    "import numpy as np\n",
    "from sklearn.metrics import mean_squared_error\n",
    "import math\n",
    "import matplotlib.pyplot as plt\n",
    "import seaborn as sns\n",
    "from tqdm.notebook import tqdm\n",
    "import warnings, gc\n",
    "warnings.simplefilter('ignore')"
   ]
  },
  {
   "cell_type": "code",
   "execution_count": 153,
   "metadata": {},
   "outputs": [],
   "source": [
    "def add_rank(df, col_name=\"pred\"):\n",
    "    df[\"Rank\"] = df.groupby(\"Date\")[col_name].rank(ascending=False, method=\"first\") - 1 \n",
    "    df[\"Rank\"] = df[\"Rank\"].astype(\"int\")\n",
    "    return df\n",
    "stock_price_df = pd.read_csv(\"stock_prices.csv\")\n",
    "stock_price_df[\"Target\"]=stock_price_df[\"Target\"].fillna(0.000001)\n",
    "stock_price_df=add_rank(stock_price_df,col_name=\"Target\")"
   ]
  },
  {
   "cell_type": "code",
   "execution_count": 154,
   "metadata": {},
   "outputs": [],
   "source": [
    "#stock_listの情報を追加\n",
    "stock_info = pd.read_csv(\"stock_list.csv\")\n",
    "stock_info = stock_info.astype({'EffectiveDate' : 'string'})\n",
    "stock_info['Date'] = stock_info.apply(lambda row : row['EffectiveDate'][:4] + '-' + row['EffectiveDate'][4:6] + '-' + row['EffectiveDate'][6:], axis = 1)\n",
    "# Remove domestic-non-domestic\n",
    "stock_info['Section'] = stock_info.apply(lambda row : row['Section/Products'].split('(')[0], axis = 1)\n",
    "# Relative Market Cap\n",
    "market_cap = stock_info.groupby(['33SectorName']).agg(total_market_cap = ('MarketCapitalization', 'sum')).reset_index()\n",
    "stock_info = pd.merge(stock_info, market_cap, on = '33SectorName', how = 'inner')\n",
    "stock_info['MarketCapPct'] = stock_info['MarketCapitalization'] / stock_info['total_market_cap'] * 100\n",
    "prices_info = pd.merge(stock_price_df, stock_info.filter(['SecuritiesCode', 'MarketCapPct', 'Section/Products', 'Section', 'NewMarketSegment', '33SectorName', '17SectorName', 'NewIndexSeriesSize']), on = ['SecuritiesCode'], how = 'left')"
   ]
  },
  {
   "cell_type": "code",
   "execution_count": 155,
   "metadata": {},
   "outputs": [],
   "source": [
    "def adjust_price(price):\n",
    "    \"\"\"\n",
    "    Args:\n",
    "        price (pd.DataFrame)  : pd.DataFrame include stock_price\n",
    "    Returns:\n",
    "        price DataFrame (pd.DataFrame): stock_price with generated AdjustedClose\n",
    "    \"\"\"\n",
    "    # transform Date column into datetime\n",
    "    price.loc[: ,\"Date\"] = pd.to_datetime(price.loc[: ,\"Date\"], format=\"%Y-%m-%d\")\n",
    "\n",
    "    def generate_adjusted_close(df):\n",
    "        \"\"\"\n",
    "        Args:\n",
    "            df (pd.DataFrame)  : stock_price for a single SecuritiesCode\n",
    "        Returns:\n",
    "            df (pd.DataFrame): stock_price with AdjustedClose for a single SecuritiesCode\n",
    "        \"\"\"\n",
    "        # sort data to generate CumulativeAdjustmentFactor\n",
    "        df = df.sort_values(\"Date\", ascending=False)\n",
    "        # generate CumulativeAdjustmentFactor\n",
    "        df.loc[:, \"CumulativeAdjustmentFactor\"] = df[\"AdjustmentFactor\"].cumprod()\n",
    "        # generate AdjustedClose\n",
    "        df.loc[:, \"AdjustedClose\"] = (\n",
    "            df[\"CumulativeAdjustmentFactor\"] * df[\"Close\"]\n",
    "        ).map(lambda x: float(\n",
    "            Decimal(str(x)).quantize(Decimal('0.1'), rounding=ROUND_HALF_UP)\n",
    "        ))\n",
    "        # reverse order\n",
    "        df = df.sort_values(\"Date\")\n",
    "        # to fill AdjustedClose, replace 0 into np.nan\n",
    "        df.loc[df[\"AdjustedClose\"] == 0, \"AdjustedClose\"] = np.nan\n",
    "        # forward fill AdjustedClose\n",
    "        df.loc[:, \"AdjustedClose\"] = df.loc[:, \"AdjustedClose\"].ffill()\n",
    "        return df\n",
    "    \n",
    "    # generate AdjustedClose\n",
    "    price = price.sort_values([\"SecuritiesCode\", \"Date\"])\n",
    "    price = price.groupby(\"SecuritiesCode\").apply(generate_adjusted_close).reset_index(drop=True)\n",
    "    return price\n",
    "\n",
    "prices_info=prices_info.drop('ExpectedDividend',axis=1).fillna(0)\n",
    "prices_info=adjust_price(prices_info)"
   ]
  },
  {
   "cell_type": "code",
   "execution_count": 156,
   "metadata": {},
   "outputs": [],
   "source": [
    "#feature generation\n",
    "def get_features_for_predict(price, code):\n",
    "    price_data = price.copy()\n",
    "    \n",
    "    df = price_data[price_data.SecuritiesCode == code]\n",
    "\n",
    "    df['feature-avg_price'] = df[['Open', 'High', 'Low', 'Close']].mean(axis=1)\n",
    "    df['feature-median_price'] = df[['Open', 'High', 'Low', 'Close']].median(axis=1)\n",
    "    df['feature-price_std'] = df[['feature-median_price', 'feature-avg_price']].std(axis=1)\n",
    "    df['feature-ohlc_std'] = df[['Open', 'High', 'Low', 'Close']].std(axis=1)\n",
    "    df['feature-v_avg'] = np.log(df['Volume']*df['feature-avg_price']+1)\n",
    "    df['feature-BOP'] = (df['Open']-df['Close'])/(df['High']-df['Low'])\n",
    "    df['feature-wp'] = (df['Open']+df['High']+df['Low'])/3\n",
    "    df['feature-TR'] = df['High'] - df['Low']\n",
    "    df['feature-OC'] = df['Open'] * df['Close']\n",
    "    df['feature-HL'] = df['High'] * df['Low']\n",
    "    df['feature-logC'] = np.log(df['Close']+1)\n",
    "    df['feature-OHLCskew'] = df[['Open','Close','High','Low']].skew(axis=1)\n",
    "    df['feature-OHLCkur'] = df[['Open','Close','High','Low']].kurtosis(axis=1)\n",
    "    df['feature-Cpos'] = (df['Close']-df['Low'])/(df['High']-df['Low']) -0.5\n",
    "    df['feature-bsforce'] = df['feature-Cpos'] * df['Volume']\n",
    "    df['feature-Opos'] = (df['Open']-df['Low'])/(df['High']-df['Low']) -0.5\n",
    "    df['feature-high/volume'] = df['High'] / df['Volume']\n",
    "    df['feature-low/volume'] = df['High'] / df['Volume']\n",
    "    df['feature-open/volume'] = df['Open'] / df['Volume']\n",
    "    df['feature-close/volume'] = df['Close'] / df['Volume']\n",
    "    # df = df.select_dtypes(include=[\"float64\",\"int64\",\"datetime\"])\n",
    "    df['Month'] = pd.to_datetime(df['Date'], errors='coerce').dt.month\n",
    "    df['DayOfWeek'] = pd.to_datetime(df['Date'], errors='coerce').dt.dayofweek\n",
    "    df['Open_Close'] = df['Open'] / df['Close']\n",
    "    df['High_Low'] = df['High'] / df['Low']\n",
    "    # 終値の20営業日リターン\n",
    "    df[\"return_1month\"] = df[\"Close\"].pct_change(20)\n",
    "    # 終値の40営業日リターン\n",
    "    df[\"return_2month\"] = df[\"Close\"].pct_change(40)\n",
    "    # 終値の60営業日リターン\n",
    "    df[\"return_3month\"] = df[\"Close\"].pct_change(60)\n",
    "    # 終値の20営業日ボラティリティ\n",
    "    df[\"volatility_1month\"] = (np.log(df[\"Close\"]).diff().rolling(20).std())\n",
    "    # 終値の40営業日ボラティリティ\n",
    "    df[\"volatility_2month\"] = (np.log(df[\"Close\"]).diff().rolling(40).std())\n",
    "    # 終値と20営業日の単純移動平均線の乖離\n",
    "    df[\"MA_gap_1month\"] = df[\"Close\"] / (df[\"Close\"].rolling(20).mean())\n",
    "    # 終値と40営業日の単純移動平均線の乖離\n",
    "    df[\"MA_gap_2month\"] = df[\"Close\"] / (df[\"Close\"].rolling(40).mean())\n",
    "    # 終値と60営業日の単純移動平均線の乖離\n",
    "    df[\"MA_gap_3month\"] = df[\"Close\"] / (df[\"Close\"].rolling(60).mean())\n",
    "    #1日モメンタム\n",
    "    df[\"MO_1days\"]=df[\"Close\"] - (df[\"Close\"].diff(periods=1))\n",
    "    #10日モメンタム\n",
    "    df[\"MO_10days\"]=df[\"Close\"] - (df[\"Close\"].diff(periods=10))\n",
    "\n",
    "    df[\"daily_ret\"] = df[\"Close\"].pct_change() #株価終値の前日との変化率を計算する。\n",
    "    ret_ave=np.mean(df[\"daily_ret\"])\n",
    "    vol_sp = df[\"daily_ret\"].std() \n",
    "    df[\"Sharpe Ratio\"]=math.sqrt(256)*ret_ave/vol_sp\n",
    "\n",
    "\n",
    "\n",
    "    df['High_shift1']=df['High'].shift(-1)\n",
    "    df['Low_shift1'] =df['Low'].shift(-1)\n",
    "    df['Open_shift1']=df['Open'].shift(-1)\n",
    "    df['Close_shift1']=df['Close'].shift(-1)\n",
    "    df['Volume_shift1']=df['Volume'].shift(-1)\n",
    "    \n",
    "    df['High_shift2']=df['High'].shift(-2)\n",
    "    df['Low_shift2'] =df['Low'].shift(-2)\n",
    "    df['Open_shift2']=df['Open'].shift(-2)\n",
    "    df['Close_shift2']=df['Close'].shift(-2)\n",
    "    df['Volume_shift2']=df['Volume'].shift(-2)\n",
    "    \n",
    "    df['High_shift3']=df['High'].shift(-3)\n",
    "    df['Low_shift3'] =df['Low'].shift(-3)\n",
    "    df['Open_shift3']=df['Open'].shift(-3)\n",
    "    df['Close_shift3']=df['Close'].shift(-3)\n",
    "    df['Volume_shift3']=df['Volume'].shift(-3)\n",
    "    \n",
    "    df['High_shift4']=df['High'].shift(-4)\n",
    "    df['Low_shift4'] =df['Low'].shift(-4)\n",
    "    df['Open_shift4']=df['Open'].shift(-4)\n",
    "    df['Close_shift4']=df['Close'].shift(-4)\n",
    "    df['Volume_shift4']=df['Volume'].shift(-4)\n",
    "    \n",
    "    df['High_shift+1']=df['High'].shift(1)\n",
    "    df['Low_shift+1'] =df['Low'].shift(1)\n",
    "    df['Open_shift+1']=df['Open'].shift(1)\n",
    "    df['Close_shift+1']=df['Close'].shift(1)\n",
    "    df['Volume_shift+1']=df['Volume'].shift(1)\n",
    "    \n",
    "    df['High_shift+2']=df['High'].shift(2)\n",
    "    df['Low_shift+2'] =df['Low'].shift(2)\n",
    "    df['Open_shift+2']=df['Open'].shift(2)\n",
    "    df['Close_shift+2']=df['Close'].shift(2)\n",
    "    df['Volume_shift+2']=df['Volume'].shift(2)\n",
    "    \n",
    "    df['High_shift+3']=df['High'].shift(3)\n",
    "    df['Low_shift+3'] =df['Low'].shift(3)\n",
    "    df['Open_shift+3']=df['Open'].shift(3)\n",
    "    df['Close_shift+3']=df['Close'].shift(3)\n",
    "    df['Volume_shift+3']=df['Volume'].shift(3)\n",
    "    \n",
    "    df['High_shift+4']=df['High'].shift(4)\n",
    "    df['Low_shift+4'] =df['Low'].shift(4)\n",
    "    df['Open_shift+4']=df['Open'].shift(4)\n",
    "    df['Close_shift+4']=df['Close'].shift(4)\n",
    "    df['Volume_shift+4']=df['Volume'].shift(4)\n",
    "    \n",
    "    df['v_avg']=np.log(df['Volume']*(df['High']+df['Low']+df['Open']+df['Close'])/4+1)\n",
    "    df['v_avg-1']=np.log(df['Volume_shift1']*(df['High_shift1']+\n",
    "                    df['Low_shift1']+df['Open_shift1']+df['Close_shift1'])/4+1)\n",
    "    df['v_avg-2']=np.log(df['Volume_shift2']*(df['High_shift2']+\n",
    "                    df['Low_shift2']+df['Open_shift2']+df['Close_shift2'])/4+1)\n",
    "    df['v_avg-3']=np.log(df['Volume_shift3']*(df['High_shift3']+\n",
    "                    df['Low_shift3']+df['Open_shift3']+df['Close_shift3'])/4+1)\n",
    "    df['v_avg-4']=np.log(df['Volume_shift4']*(df['High_shift4']+\n",
    "                    df['Low_shift4']+df['Open_shift4']+df['Close_shift4'])/4+1)\n",
    "    \n",
    "    df['v_avg+1']=np.log(df['Volume_shift+1']*(df['High_shift+1']+\n",
    "                    df['Low_shift+1']+df['Open_shift+1']+df['Close_shift+1'])/4+1)\n",
    "    df['v_avg+2']=np.log(df['Volume_shift+2']*(df['High_shift+2']+\n",
    "                    df['Low_shift+2']+df['Open_shift+2']+df['Close_shift+2'])/4+1)\n",
    "    df['v_avg+3']=np.log(df['Volume_shift+3']*(df['High_shift+3']+\n",
    "                    df['Low_shift+3']+df['Open_shift+3']+df['Close_shift+3'])/4+1)\n",
    "    df['v_avg+4']=np.log(df['Volume_shift+4']*(df['High_shift+4']+\n",
    "                    df['Low_shift+4']+df['Open_shift+4']+df['Close_shift+4'])/4+1)\n",
    "    \n",
    "    # fill na\n",
    "    df = df.fillna(0)\n",
    "    \n",
    "    return df"
   ]
  },
  {
   "cell_type": "code",
   "execution_count": 157,
   "metadata": {},
   "outputs": [
    {
     "data": {
      "application/vnd.jupyter.widget-view+json": {
       "model_id": "06f8dab4a01749c08bf4a7bc9d3b7ad6",
       "version_major": 2,
       "version_minor": 0
      },
      "text/plain": [
       "  0%|          | 0/2000 [00:00<?, ?it/s]"
      ]
     },
     "metadata": {},
     "output_type": "display_data"
    }
   ],
   "source": [
    "# get code of each stock\n",
    "codes = stock_price_df[\"SecuritiesCode\"].unique()\n",
    "# create dataframe\n",
    "buff = []\n",
    "for code in tqdm(codes):\n",
    "    feat = get_features_for_predict(prices_info, code)\n",
    "    buff.append(feat)\n",
    "    del feat\n",
    "feature = pd.concat(buff)"
   ]
  },
  {
   "cell_type": "code",
   "execution_count": 158,
   "metadata": {},
   "outputs": [],
   "source": [
    "df=feature.copy()\n",
    "# df=df.dropna(how=\"all\",axis=0)"
   ]
  },
  {
   "cell_type": "code",
   "execution_count": 159,
   "metadata": {},
   "outputs": [
    {
     "name": "stdout",
     "output_type": "stream",
     "text": [
      "<class 'pandas.core.frame.DataFrame'>\n",
      "Int64Index: 2332531 entries, 0 to 670140\n",
      "Data columns (total 57 columns):\n",
      " #   Column                      Dtype         \n",
      "---  ------                      -----         \n",
      " 0   RowId                       object        \n",
      " 1   Date                        datetime64[ns]\n",
      " 2   SecuritiesCode              int64         \n",
      " 3   Open                        float64       \n",
      " 4   High                        float64       \n",
      " 5   Low                         float64       \n",
      " 6   Close                       float64       \n",
      " 7   Volume                      int64         \n",
      " 8   AdjustmentFactor            float64       \n",
      " 9   SupervisionFlag             bool          \n",
      " 10  Target                      float64       \n",
      " 11  Rank                        int64         \n",
      " 12  MarketCapPct                float64       \n",
      " 13  Section/Products            int64         \n",
      " 14  Section                     int64         \n",
      " 15  NewMarketSegment            int64         \n",
      " 16  33SectorName                int64         \n",
      " 17  17SectorName                int64         \n",
      " 18  NewIndexSeriesSize          int64         \n",
      " 19  CumulativeAdjustmentFactor  float64       \n",
      " 20  AdjustedClose               float64       \n",
      " 21  feature-avg_price           float64       \n",
      " 22  feature-median_price        float64       \n",
      " 23  feature-price_std           float64       \n",
      " 24  feature-ohlc_std            float64       \n",
      " 25  feature-v_avg               float64       \n",
      " 26  feature-BOP                 float64       \n",
      " 27  feature-wp                  float64       \n",
      " 28  feature-TR                  float64       \n",
      " 29  feature-OC                  float64       \n",
      " 30  feature-HL                  float64       \n",
      " 31  feature-logC                float64       \n",
      " 32  feature-OHLCskew            float64       \n",
      " 33  feature-OHLCkur             float64       \n",
      " 34  feature-Cpos                float64       \n",
      " 35  feature-bsforce             float64       \n",
      " 36  feature-Opos                float64       \n",
      " 37  feature-high/volume         float64       \n",
      " 38  feature-low/volume          float64       \n",
      " 39  feature-open/volume         float64       \n",
      " 40  feature-close/volume        float64       \n",
      " 41  Month                       int64         \n",
      " 42  DayOfWeek                   int64         \n",
      " 43  Open_Close                  float64       \n",
      " 44  High_Low                    float64       \n",
      " 45  return_1month               float64       \n",
      " 46  return_2month               float64       \n",
      " 47  return_3month               float64       \n",
      " 48  volatility_1month           float64       \n",
      " 49  volatility_2month           float64       \n",
      " 50  MA_gap_1month               float64       \n",
      " 51  MA_gap_2month               float64       \n",
      " 52  MA_gap_3month               float64       \n",
      " 53  MO_1days                    float64       \n",
      " 54  MO_10days                   float64       \n",
      " 55  daily_ret                   float64       \n",
      " 56  Sharpe Ratio                float64       \n",
      "dtypes: bool(1), datetime64[ns](1), float64(43), int64(11), object(1)\n",
      "memory usage: 1016.6+ MB\n",
      "None\n"
     ]
    }
   ],
   "source": [
    "objList = [\"Section/Products\",\"Section\",\"NewMarketSegment\",\"33SectorName\",\"17SectorName\",\"NewIndexSeriesSize\"]\n",
    "#Label Encoding for object to numeric conversion\n",
    "from sklearn.preprocessing import LabelEncoder\n",
    "le = LabelEncoder()\n",
    "\n",
    "for feat in objList:\n",
    "    df[feat] = le.fit_transform(df[feat].astype(str))\n",
    "\n",
    "print (df.info())"
   ]
  },
  {
   "cell_type": "code",
   "execution_count": 160,
   "metadata": {},
   "outputs": [],
   "source": [
    "# time_config={\"train_split_date\": \"2019-11-01\",\n",
    "#              \"val_split_date\"  : \"2021-11-01\",\n",
    "#              \"test_split_date\" : \"2021-12-01\"}\n",
    "# train = df[(df.Date>=time_config[\"train_split_date\"])&(df.Date<time_config[\"val_split_date\"])]\n",
    "# val   = df[(df.Date>=time_config[\"val_split_date\"])&(df.Date<time_config[\"test_split_date\"])]\n",
    "# test  = df[(df.Date>=time_config[\"test_split_date\"])]\n",
    "# print(train.shape)\n",
    "# print(val.shape)\n",
    "# print(test.shape)\n",
    "#  #Because we need query for rank-learning\n",
    "# query_train = train[\"Date\"].value_counts().sort_index()\n",
    "# query_val = val[\"Date\"].value_counts().sort_index()\n",
    "# query_test = train[\"Date\"].value_counts().sort_index()\n",
    "# def Date_to_int(df,col):\n",
    "#     df[col]=df.Date.str[:4]+df.Date.str[5:7]+df.Date.str[8:10]\n",
    "#     df[col]=df[col].astype(int)\n",
    "#     return df[col]\n",
    "\n",
    "# train[\"Date\"]=Date_to_int(train,\"Date\")\n",
    "# val[\"Date\"]=Date_to_int(val,\"Date\")\n",
    "# test[\"Date\"]=Date_to_int(test,\"Date\")"
   ]
  },
  {
   "cell_type": "code",
   "execution_count": 161,
   "metadata": {},
   "outputs": [],
   "source": [
    "def calc_spread_return_sharpe(df: pd.DataFrame, portfolio_size: int = 200, toprank_weight_ratio: float = 2) -> float:\n",
    "    \"\"\"\n",
    "    Args:\n",
    "        df (pd.DataFrame): predicted results\n",
    "        portfolio_size (int): # of equities to buy/sell\n",
    "        toprank_weight_ratio (float): the relative weight of the most highly ranked stock compared to the least.\n",
    "    Returns:\n",
    "        (float): sharpe ratio\n",
    "    \"\"\"\n",
    "    def _calc_spread_return_per_day(df, portfolio_size, toprank_weight_ratio):\n",
    "        \"\"\"\n",
    "        Args:\n",
    "            df (pd.DataFrame): predicted results\n",
    "            portfolio_size (int): # of equities to buy/sell\n",
    "            toprank_weight_ratio (float): the relative weight of the most highly ranked stock compared to the least.\n",
    "        Returns:\n",
    "            (float): spread return\n",
    "        \"\"\"\n",
    "        assert df['Rank'].min() == 0\n",
    "        assert df['Rank'].max() == len(df['Rank']) - 1\n",
    "        weights = np.linspace(start=toprank_weight_ratio, stop=1, num=portfolio_size)\n",
    "        purchase = (df.sort_values(by='Rank')['Target'][:portfolio_size] * weights).sum() / weights.mean()\n",
    "        short = (df.sort_values(by='Rank', ascending=False)['Target'][:portfolio_size] * weights).sum() / weights.mean()\n",
    "        return purchase - short\n",
    "\n",
    "    buf = df.groupby('Date').apply(_calc_spread_return_per_day, portfolio_size, toprank_weight_ratio)\n",
    "    sharpe_ratio = buf.mean() / buf.std()\n",
    "    return sharpe_ratio"
   ]
  },
  {
   "cell_type": "code",
   "execution_count": 177,
   "metadata": {},
   "outputs": [],
   "source": [
    "import lightgbm as lgb\n",
    "from sklearn.model_selection import TimeSeriesSplit\n",
    "from sklearn.metrics import mean_absolute_error\n",
    "\n",
    "ts_fold = TimeSeriesSplit(n_splits=10, gap=10000)\n",
    "prices=df.dropna().sort_values(['Date','SecuritiesCode'])\n",
    "y=prices['Target'].to_numpy()\n",
    "drop_cols=['RowId','Target','Rank']\n",
    "X=prices.drop(drop_cols,axis=1)"
   ]
  },
  {
   "cell_type": "code",
   "execution_count": 178,
   "metadata": {},
   "outputs": [
    {
     "name": "stdout",
     "output_type": "stream",
     "text": [
      "\n",
      "========================== Fold 1 ==========================\n",
      "Train Date range: 2017-01-04 00:00:00 to 2017-06-09 00:00:00\n",
      "Valid Date range: 2017-06-19 00:00:00 to 2017-12-01 00:00:00\n",
      "\n",
      "Train Shape: (202051, 52) (202051,), Valid Shape: (212048, 52) (212048,)\n",
      "[300]\ttraining's l2: 0.000248251\ttraining's l1: 0.0104194\tvalid_1's l2: 0.000389251\tvalid_1's l1: 0.0125165\n",
      "Valid Sharpe: 0.27933506237221406, RMSE: 0.019826071808422562, MAE: 0.012613414459745021\n",
      "\n",
      "========================== Fold 2 ==========================\n",
      "Train Date range: 2017-01-04 00:00:00 to 2017-11-22 00:00:00\n",
      "Valid Date range: 2017-12-01 00:00:00 to 2018-05-18 00:00:00\n",
      "\n",
      "Train Shape: (414099, 52) (414099,), Valid Shape: (212048, 52) (212048,)\n",
      "[300]\ttraining's l2: 0.000286402\ttraining's l1: 0.0110004\tvalid_1's l2: 0.000572491\tvalid_1's l1: 0.0158087\n",
      "Valid Sharpe: 0.07916124776695702, RMSE: 0.02407989942799321, MAE: 0.015922475967632126\n",
      "\n",
      "========================== Fold 3 ==========================\n",
      "Train Date range: 2017-01-04 00:00:00 to 2018-05-11 00:00:00\n",
      "Valid Date range: 2018-05-18 00:00:00 to 2018-10-26 00:00:00\n",
      "\n",
      "Train Shape: (626147, 52) (626147,), Valid Shape: (212048, 52) (212048,)\n",
      "[300]\ttraining's l2: 0.000334728\ttraining's l1: 0.0118936\tvalid_1's l2: 0.00052735\tvalid_1's l1: 0.0156452\n",
      "Valid Sharpe: 0.10915148779709205, RMSE: 0.023026900378743918, MAE: 0.015701171670813523\n",
      "\n",
      "========================== Fold 4 ==========================\n",
      "Train Date range: 2017-01-04 00:00:00 to 2018-10-19 00:00:00\n",
      "Valid Date range: 2018-10-26 00:00:00 to 2019-04-11 00:00:00\n",
      "\n",
      "Train Shape: (838195, 52) (838195,), Valid Shape: (212048, 52) (212048,)\n",
      "[300]\ttraining's l2: 0.000361123\ttraining's l1: 0.0124629\tvalid_1's l2: 0.000731773\tvalid_1's l1: 0.0186305\n",
      "Valid Sharpe: 0.23603761547236743, RMSE: 0.027164454173230802, MAE: 0.018727585710281894\n",
      "\n",
      "========================== Fold 5 ==========================\n",
      "Train Date range: 2017-01-04 00:00:00 to 2019-04-04 00:00:00\n",
      "Valid Date range: 2019-04-11 00:00:00 to 2019-09-25 00:00:00\n",
      "\n",
      "Train Shape: (1050243, 52) (1050243,), Valid Shape: (212048, 52) (212048,)\n",
      "[300]\ttraining's l2: 0.000401612\ttraining's l1: 0.0132145\tvalid_1's l2: 0.00046739\tvalid_1's l1: 0.0147059\n",
      "Valid Sharpe: 0.4473022149096424, RMSE: 0.021659539815922633, MAE: 0.014744707486137248\n",
      "\n",
      "========================== Fold 6 ==========================\n",
      "Train Date range: 2017-01-04 00:00:00 to 2019-09-17 00:00:00\n",
      "Valid Date range: 2019-09-25 00:00:00 to 2020-03-10 00:00:00\n",
      "\n",
      "Train Shape: (1262291, 52) (1262291,), Valid Shape: (212048, 52) (212048,)\n",
      "[300]\ttraining's l2: 0.000408597\ttraining's l1: 0.0133884\tvalid_1's l2: 0.000561438\tvalid_1's l1: 0.0156287\n",
      "Valid Sharpe: 0.07873921240868971, RMSE: 0.023777936640592162, MAE: 0.015687874821729418\n",
      "\n",
      "========================== Fold 7 ==========================\n",
      "Train Date range: 2017-01-04 00:00:00 to 2020-03-02 00:00:00\n",
      "Valid Date range: 2020-03-10 00:00:00 to 2020-08-18 00:00:00\n",
      "\n",
      "Train Shape: (1474339, 52) (1474339,), Valid Shape: (212048, 52) (212048,)\n",
      "[300]\ttraining's l2: 0.000411281\ttraining's l1: 0.0134397\tvalid_1's l2: 0.00108048\tvalid_1's l1: 0.0230008\n",
      "Valid Sharpe: 0.2527925861230716, RMSE: 0.032891519100008544, MAE: 0.023022997018597884\n",
      "\n",
      "========================== Fold 8 ==========================\n",
      "Train Date range: 2017-01-04 00:00:00 to 2020-08-11 00:00:00\n",
      "Valid Date range: 2020-08-18 00:00:00 to 2021-01-22 00:00:00\n",
      "\n",
      "Train Shape: (1686387, 52) (1686387,), Valid Shape: (212048, 52) (212048,)\n",
      "[300]\ttraining's l2: 0.000467126\ttraining's l1: 0.0143658\tvalid_1's l2: 0.000558575\tvalid_1's l1: 0.016085\n",
      "Valid Sharpe: 0.2533778432270643, RMSE: 0.023688070832206615, MAE: 0.01613241037380202\n",
      "\n",
      "========================== Fold 9 ==========================\n",
      "Train Date range: 2017-01-04 00:00:00 to 2021-01-15 00:00:00\n",
      "Valid Date range: 2021-01-22 00:00:00 to 2021-06-29 00:00:00\n",
      "\n",
      "Train Shape: (1898435, 52) (1898435,), Valid Shape: (212048, 52) (212048,)\n",
      "[300]\ttraining's l2: 0.000473791\ttraining's l1: 0.0145058\tvalid_1's l2: 0.000498544\tvalid_1's l1: 0.0155577\n",
      "Valid Sharpe: 0.11075122443021125, RMSE: 0.02237758782354661, MAE: 0.015591424594608553\n",
      "\n",
      "========================== Fold 10 ==========================\n",
      "Train Date range: 2017-01-04 00:00:00 to 2021-06-22 00:00:00\n",
      "Valid Date range: 2021-06-29 00:00:00 to 2021-12-03 00:00:00\n",
      "\n",
      "Train Shape: (2110483, 52) (2110483,), Valid Shape: (212048, 52) (212048,)\n",
      "[300]\ttraining's l2: 0.000476071\ttraining's l1: 0.014595\tvalid_1's l2: 0.000495179\tvalid_1's l1: 0.0152355\n",
      "Valid Sharpe: 0.0674705303079186, RMSE: 0.02228201668568674, MAE: 0.015261166712667923\n",
      "\n",
      "Average cross-validation Sharpe Ratio: 0.1914, standard deviation = 0.12.\n"
     ]
    }
   ],
   "source": [
    "feat_importance=pd.DataFrame()\n",
    "sharpe_ratio=[]\n",
    "    \n",
    "for fold, (train_idx, val_idx) in enumerate(ts_fold.split(X, y)):\n",
    "    \n",
    "    print(\"\\n========================== Fold {} ==========================\".format(fold+1))\n",
    "    X_train, y_train = X.iloc[train_idx,:], y[train_idx]\n",
    "    X_valid, y_val = X.iloc[val_idx,:], y[val_idx]\n",
    "    \n",
    "    print(\"Train Date range: {} to {}\".format(X_train.Date.min(),X_train.Date.max()))\n",
    "    print(\"Valid Date range: {} to {}\".format(X_valid.Date.min(),X_valid.Date.max()))\n",
    "    \n",
    "    X_train.drop(['Date','SecuritiesCode'], axis=1, inplace=True)\n",
    "    X_val=X_valid[X_valid.columns[~X_valid.columns.isin(['Date','SecuritiesCode'])]]\n",
    "    val_dates=X_valid.Date.unique()[1:-1]\n",
    "    print(\"\\nTrain Shape: {} {}, Valid Shape: {} {}\".format(X_train.shape, y_train.shape, X_val.shape, y_val.shape))\n",
    "    \n",
    "    params = {'n_estimators': 500,\n",
    "              'num_leaves' : 100,\n",
    "              'learning_rate': 0.1,\n",
    "              'colsample_bytree': 0.9,\n",
    "              'subsample': 0.8,\n",
    "              'reg_alpha': 0.4,\n",
    "              'metric': 'mae',\n",
    "              'random_state': 21}\n",
    "    \n",
    "    gbm = lgb.LGBMRegressor(**params).fit(X_train, y_train, \n",
    "                                      eval_set=[(X_train, y_train), (X_val, y_val)],\n",
    "                                      verbose=300, \n",
    "                                      eval_metric=['mae','mse'])\n",
    "    y_pred = gbm.predict(X_val)\n",
    "    rmse = np.sqrt(mean_squared_error(y_val, y_pred))\n",
    "    mae = mean_absolute_error(y_val, y_pred)\n",
    "    feat_importance[\"Importance_Fold\"+str(fold)]=gbm.feature_importances_\n",
    "    feat_importance.set_index(X_train.columns, inplace=True)\n",
    "    \n",
    "    rank=[]\n",
    "    X_val_df=X_valid[X_valid.Date.isin(val_dates)]\n",
    "    for i in X_val_df.Date.unique():\n",
    "        temp_df = X_val_df[X_val_df.Date == i].drop(['Date','SecuritiesCode'],axis=1)\n",
    "        temp_df[\"pred\"] = gbm.predict(temp_df)\n",
    "        temp_df[\"Rank\"] = (temp_df[\"pred\"].rank(method=\"first\", ascending=False)-1).astype(int)\n",
    "        rank.append(temp_df[\"Rank\"].values)\n",
    "\n",
    "    stock_rank=pd.Series([x for y in rank for x in y], name=\"Rank\")\n",
    "    df=pd.concat([X_val_df.reset_index(drop=True),stock_rank,\n",
    "                  prices[prices.Date.isin(val_dates)]['Target'].reset_index(drop=True)], axis=1)\n",
    "    sharpe=calc_spread_return_sharpe(df)\n",
    "    sharpe_ratio.append(sharpe)\n",
    "    print(\"Valid Sharpe: {}, RMSE: {}, MAE: {}\".format(sharpe,rmse,mae))\n",
    "    \n",
    "    del X_train, y_train,  X_val, y_val\n",
    "    gc.collect()\n",
    "    \n",
    "print(\"\\nAverage cross-validation Sharpe Ratio: {:.4f}, standard deviation = {:.2f}.\".format(np.mean(sharpe_ratio),np.std(sharpe_ratio)))"
   ]
  },
  {
   "cell_type": "code",
   "execution_count": null,
   "metadata": {},
   "outputs": [],
   "source": [
    "\n",
    "# model = lgb.LGBMRegressor(\n",
    "#     n_estimators=10,\n",
    "#     # objective=\"lambdarank\",\n",
    "#     # label_gain=np.arange(2000),\n",
    "#     # lambdarank_truncation_level=2,\n",
    "#     max_depth=8,\n",
    "#     colsample_bytree=0.7,\n",
    "#     num_leaves=40,\n",
    "#     device=\"cpu\",\n",
    "#     learning_rate=0.002,\n",
    "#      n_jobs=2\n",
    "#     )"
   ]
  },
  {
   "cell_type": "code",
   "execution_count": null,
   "metadata": {},
   "outputs": [],
   "source": [
    "# model.fit(\n",
    "#     X_train,\n",
    "#     y_train,\n",
    "#     # group=query_train,\n",
    "#     eval_set = [(X_val, y_val)],\n",
    "#     # eval_group=[query_val]\n",
    "# )"
   ]
  },
  {
   "cell_type": "code",
   "execution_count": 182,
   "metadata": {},
   "outputs": [
    {
     "data": {
      "application/vnd.plotly.v1+json": {
       "config": {
        "plotlyServerURL": "https://plot.ly"
       },
       "data": [
        {
         "hovertemplate": "%{y} Importance = %{x:.0f}<extra></extra>",
         "marker": {
          "color": [
           "#19068c",
           "#240691",
           "#2c0594",
           "#350498",
           "#3e049c",
           "#44039e",
           "#4c02a1",
           "#5502a4",
           "#5b01a5",
           "#6300a7",
           "#6a00a8",
           "#7100a8",
           "#7801a8",
           "#8004a8",
           "#8606a6",
           "#8d0ba5",
           "#9410a2",
           "#99159f",
           "#a01a9c",
           "#a62098",
           "#ab2494",
           "#b12a90",
           "#b6308b",
           "#bb3488",
           "#c03a83",
           "#c5407e",
           "#c9447a",
           "#cd4a76",
           "#d14e72",
           "#d5546e",
           "#da5a6a",
           "#dd5e66",
           "#e16462",
           "#e56a5d",
           "#e76f5a",
           "#eb7556",
           "#ee7b51",
           "#f0804e",
           "#f3874a",
           "#f68d45",
           "#f79342",
           "#f99a3e",
           "#fba139",
           "#fca636",
           "#fdae32",
           "#fdb52e",
           "#febb2b",
           "#fdc328",
           "#fdcb26",
           "#fcd225",
           "#fada24",
           "#f7e225"
          ],
          "size": 8
         },
         "mode": "markers",
         "type": "scatter",
         "x": [
          1.7,
          2,
          14.9,
          18.599999999999998,
          18.8,
          63.7,
          76.5,
          86.7,
          91.39999999999999,
          94.6,
          95.7,
          153.70000000000002,
          216.1,
          218.3,
          220.5,
          221.8,
          242.1,
          245.3,
          296.5,
          372.8,
          445.4,
          455.6,
          647.8000000000001,
          759.6,
          844.1,
          913.8,
          999.1,
          1028.7,
          1118.7,
          1155.2,
          1165.3,
          1208.3999999999999,
          1212,
          1248.7,
          1344.5,
          1355.2,
          1373.3999999999999,
          1512.5,
          1526.6,
          1531.9,
          1687.4,
          1704.7,
          1799.8,
          1902.3,
          1917.9,
          1934.9,
          2068.4,
          2108.9,
          2155.7000000000003,
          2401.6,
          2593,
          2627.2000000000003
         ],
         "y": [
          "AdjustmentFactor",
          "Sharpe Ratio",
          "SupervisionFlag",
          "feature-logC",
          "Section",
          "feature-low/volume",
          "feature-OC",
          "feature-HL",
          "feature-avg_price",
          "feature-median_price",
          "feature-wp",
          "NewMarketSegment",
          "Close",
          "Section/Products",
          "CumulativeAdjustmentFactor",
          "NewIndexSeriesSize",
          "Low",
          "High",
          "Open",
          "feature-close/volume",
          "feature-open/volume",
          "MO_1days",
          "feature-high/volume",
          "17SectorName",
          "33SectorName",
          "feature-ohlc_std",
          "MO_10days",
          "feature-TR",
          "feature-BOP",
          "MA_gap_3month",
          "Volume",
          "MA_gap_2month",
          "feature-price_std",
          "Open_Close",
          "feature-OHLCkur",
          "feature-Opos",
          "feature-bsforce",
          "AdjustedClose",
          "feature-Cpos",
          "feature-OHLCskew",
          "feature-v_avg",
          "return_2month",
          "return_3month",
          "MarketCapPct",
          "return_1month",
          "DayOfWeek",
          "volatility_2month",
          "MA_gap_1month",
          "volatility_1month",
          "High_Low",
          "daily_ret",
          "Month"
         ]
        }
       ],
       "layout": {
        "shapes": [
         {
          "line": {
           "color": "#19068c",
           "width": 4
          },
          "opacity": 0.7,
          "type": "line",
          "x0": 0,
          "x1": 1.7,
          "y0": 0,
          "y1": 0
         },
         {
          "line": {
           "color": "#240691",
           "width": 4
          },
          "opacity": 0.7,
          "type": "line",
          "x0": 0,
          "x1": 2,
          "y0": 1,
          "y1": 1
         },
         {
          "line": {
           "color": "#2c0594",
           "width": 4
          },
          "opacity": 0.7,
          "type": "line",
          "x0": 0,
          "x1": 14.9,
          "y0": 2,
          "y1": 2
         },
         {
          "line": {
           "color": "#350498",
           "width": 4
          },
          "opacity": 0.7,
          "type": "line",
          "x0": 0,
          "x1": 18.599999999999998,
          "y0": 3,
          "y1": 3
         },
         {
          "line": {
           "color": "#3e049c",
           "width": 4
          },
          "opacity": 0.7,
          "type": "line",
          "x0": 0,
          "x1": 18.8,
          "y0": 4,
          "y1": 4
         },
         {
          "line": {
           "color": "#44039e",
           "width": 4
          },
          "opacity": 0.7,
          "type": "line",
          "x0": 0,
          "x1": 63.7,
          "y0": 5,
          "y1": 5
         },
         {
          "line": {
           "color": "#4c02a1",
           "width": 4
          },
          "opacity": 0.7,
          "type": "line",
          "x0": 0,
          "x1": 76.5,
          "y0": 6,
          "y1": 6
         },
         {
          "line": {
           "color": "#5502a4",
           "width": 4
          },
          "opacity": 0.7,
          "type": "line",
          "x0": 0,
          "x1": 86.7,
          "y0": 7,
          "y1": 7
         },
         {
          "line": {
           "color": "#5b01a5",
           "width": 4
          },
          "opacity": 0.7,
          "type": "line",
          "x0": 0,
          "x1": 91.39999999999999,
          "y0": 8,
          "y1": 8
         },
         {
          "line": {
           "color": "#6300a7",
           "width": 4
          },
          "opacity": 0.7,
          "type": "line",
          "x0": 0,
          "x1": 94.6,
          "y0": 9,
          "y1": 9
         },
         {
          "line": {
           "color": "#6a00a8",
           "width": 4
          },
          "opacity": 0.7,
          "type": "line",
          "x0": 0,
          "x1": 95.7,
          "y0": 10,
          "y1": 10
         },
         {
          "line": {
           "color": "#7100a8",
           "width": 4
          },
          "opacity": 0.7,
          "type": "line",
          "x0": 0,
          "x1": 153.70000000000002,
          "y0": 11,
          "y1": 11
         },
         {
          "line": {
           "color": "#7801a8",
           "width": 4
          },
          "opacity": 0.7,
          "type": "line",
          "x0": 0,
          "x1": 216.1,
          "y0": 12,
          "y1": 12
         },
         {
          "line": {
           "color": "#8004a8",
           "width": 4
          },
          "opacity": 0.7,
          "type": "line",
          "x0": 0,
          "x1": 218.3,
          "y0": 13,
          "y1": 13
         },
         {
          "line": {
           "color": "#8606a6",
           "width": 4
          },
          "opacity": 0.7,
          "type": "line",
          "x0": 0,
          "x1": 220.5,
          "y0": 14,
          "y1": 14
         },
         {
          "line": {
           "color": "#8d0ba5",
           "width": 4
          },
          "opacity": 0.7,
          "type": "line",
          "x0": 0,
          "x1": 221.8,
          "y0": 15,
          "y1": 15
         },
         {
          "line": {
           "color": "#9410a2",
           "width": 4
          },
          "opacity": 0.7,
          "type": "line",
          "x0": 0,
          "x1": 242.1,
          "y0": 16,
          "y1": 16
         },
         {
          "line": {
           "color": "#99159f",
           "width": 4
          },
          "opacity": 0.7,
          "type": "line",
          "x0": 0,
          "x1": 245.3,
          "y0": 17,
          "y1": 17
         },
         {
          "line": {
           "color": "#a01a9c",
           "width": 4
          },
          "opacity": 0.7,
          "type": "line",
          "x0": 0,
          "x1": 296.5,
          "y0": 18,
          "y1": 18
         },
         {
          "line": {
           "color": "#a62098",
           "width": 4
          },
          "opacity": 0.7,
          "type": "line",
          "x0": 0,
          "x1": 372.8,
          "y0": 19,
          "y1": 19
         },
         {
          "line": {
           "color": "#ab2494",
           "width": 4
          },
          "opacity": 0.7,
          "type": "line",
          "x0": 0,
          "x1": 445.4,
          "y0": 20,
          "y1": 20
         },
         {
          "line": {
           "color": "#b12a90",
           "width": 4
          },
          "opacity": 0.7,
          "type": "line",
          "x0": 0,
          "x1": 455.6,
          "y0": 21,
          "y1": 21
         },
         {
          "line": {
           "color": "#b6308b",
           "width": 4
          },
          "opacity": 0.7,
          "type": "line",
          "x0": 0,
          "x1": 647.8000000000001,
          "y0": 22,
          "y1": 22
         },
         {
          "line": {
           "color": "#bb3488",
           "width": 4
          },
          "opacity": 0.7,
          "type": "line",
          "x0": 0,
          "x1": 759.6,
          "y0": 23,
          "y1": 23
         },
         {
          "line": {
           "color": "#c03a83",
           "width": 4
          },
          "opacity": 0.7,
          "type": "line",
          "x0": 0,
          "x1": 844.1,
          "y0": 24,
          "y1": 24
         },
         {
          "line": {
           "color": "#c5407e",
           "width": 4
          },
          "opacity": 0.7,
          "type": "line",
          "x0": 0,
          "x1": 913.8,
          "y0": 25,
          "y1": 25
         },
         {
          "line": {
           "color": "#c9447a",
           "width": 4
          },
          "opacity": 0.7,
          "type": "line",
          "x0": 0,
          "x1": 999.1,
          "y0": 26,
          "y1": 26
         },
         {
          "line": {
           "color": "#cd4a76",
           "width": 4
          },
          "opacity": 0.7,
          "type": "line",
          "x0": 0,
          "x1": 1028.7,
          "y0": 27,
          "y1": 27
         },
         {
          "line": {
           "color": "#d14e72",
           "width": 4
          },
          "opacity": 0.7,
          "type": "line",
          "x0": 0,
          "x1": 1118.7,
          "y0": 28,
          "y1": 28
         },
         {
          "line": {
           "color": "#d5546e",
           "width": 4
          },
          "opacity": 0.7,
          "type": "line",
          "x0": 0,
          "x1": 1155.2,
          "y0": 29,
          "y1": 29
         },
         {
          "line": {
           "color": "#da5a6a",
           "width": 4
          },
          "opacity": 0.7,
          "type": "line",
          "x0": 0,
          "x1": 1165.3,
          "y0": 30,
          "y1": 30
         },
         {
          "line": {
           "color": "#dd5e66",
           "width": 4
          },
          "opacity": 0.7,
          "type": "line",
          "x0": 0,
          "x1": 1208.3999999999999,
          "y0": 31,
          "y1": 31
         },
         {
          "line": {
           "color": "#e16462",
           "width": 4
          },
          "opacity": 0.7,
          "type": "line",
          "x0": 0,
          "x1": 1212,
          "y0": 32,
          "y1": 32
         },
         {
          "line": {
           "color": "#e56a5d",
           "width": 4
          },
          "opacity": 0.7,
          "type": "line",
          "x0": 0,
          "x1": 1248.7,
          "y0": 33,
          "y1": 33
         },
         {
          "line": {
           "color": "#e76f5a",
           "width": 4
          },
          "opacity": 0.7,
          "type": "line",
          "x0": 0,
          "x1": 1344.5,
          "y0": 34,
          "y1": 34
         },
         {
          "line": {
           "color": "#eb7556",
           "width": 4
          },
          "opacity": 0.7,
          "type": "line",
          "x0": 0,
          "x1": 1355.2,
          "y0": 35,
          "y1": 35
         },
         {
          "line": {
           "color": "#ee7b51",
           "width": 4
          },
          "opacity": 0.7,
          "type": "line",
          "x0": 0,
          "x1": 1373.3999999999999,
          "y0": 36,
          "y1": 36
         },
         {
          "line": {
           "color": "#f0804e",
           "width": 4
          },
          "opacity": 0.7,
          "type": "line",
          "x0": 0,
          "x1": 1512.5,
          "y0": 37,
          "y1": 37
         },
         {
          "line": {
           "color": "#f3874a",
           "width": 4
          },
          "opacity": 0.7,
          "type": "line",
          "x0": 0,
          "x1": 1526.6,
          "y0": 38,
          "y1": 38
         },
         {
          "line": {
           "color": "#f68d45",
           "width": 4
          },
          "opacity": 0.7,
          "type": "line",
          "x0": 0,
          "x1": 1531.9,
          "y0": 39,
          "y1": 39
         },
         {
          "line": {
           "color": "#f79342",
           "width": 4
          },
          "opacity": 0.7,
          "type": "line",
          "x0": 0,
          "x1": 1687.4,
          "y0": 40,
          "y1": 40
         },
         {
          "line": {
           "color": "#f99a3e",
           "width": 4
          },
          "opacity": 0.7,
          "type": "line",
          "x0": 0,
          "x1": 1704.7,
          "y0": 41,
          "y1": 41
         },
         {
          "line": {
           "color": "#fba139",
           "width": 4
          },
          "opacity": 0.7,
          "type": "line",
          "x0": 0,
          "x1": 1799.8,
          "y0": 42,
          "y1": 42
         },
         {
          "line": {
           "color": "#fca636",
           "width": 4
          },
          "opacity": 0.7,
          "type": "line",
          "x0": 0,
          "x1": 1902.3,
          "y0": 43,
          "y1": 43
         },
         {
          "line": {
           "color": "#fdae32",
           "width": 4
          },
          "opacity": 0.7,
          "type": "line",
          "x0": 0,
          "x1": 1917.9,
          "y0": 44,
          "y1": 44
         },
         {
          "line": {
           "color": "#fdb52e",
           "width": 4
          },
          "opacity": 0.7,
          "type": "line",
          "x0": 0,
          "x1": 1934.9,
          "y0": 45,
          "y1": 45
         },
         {
          "line": {
           "color": "#febb2b",
           "width": 4
          },
          "opacity": 0.7,
          "type": "line",
          "x0": 0,
          "x1": 2068.4,
          "y0": 46,
          "y1": 46
         },
         {
          "line": {
           "color": "#fdc328",
           "width": 4
          },
          "opacity": 0.7,
          "type": "line",
          "x0": 0,
          "x1": 2108.9,
          "y0": 47,
          "y1": 47
         },
         {
          "line": {
           "color": "#fdcb26",
           "width": 4
          },
          "opacity": 0.7,
          "type": "line",
          "x0": 0,
          "x1": 2155.7000000000003,
          "y0": 48,
          "y1": 48
         },
         {
          "line": {
           "color": "#fcd225",
           "width": 4
          },
          "opacity": 0.7,
          "type": "line",
          "x0": 0,
          "x1": 2401.6,
          "y0": 49,
          "y1": 49
         },
         {
          "line": {
           "color": "#fada24",
           "width": 4
          },
          "opacity": 0.7,
          "type": "line",
          "x0": 0,
          "x1": 2593,
          "y0": 50,
          "y1": 50
         },
         {
          "line": {
           "color": "#f7e225",
           "width": 4
          },
          "opacity": 0.7,
          "type": "line",
          "x0": 0,
          "x1": 2627.2000000000003,
          "y0": 51,
          "y1": 51
         }
        ],
        "template": {
         "data": {
          "bar": [
           {
            "error_x": {
             "color": "#2a3f5f"
            },
            "error_y": {
             "color": "#2a3f5f"
            },
            "marker": {
             "line": {
              "color": "#E5ECF6",
              "width": 0.5
             },
             "pattern": {
              "fillmode": "overlay",
              "size": 10,
              "solidity": 0.2
             }
            },
            "type": "bar"
           }
          ],
          "barpolar": [
           {
            "marker": {
             "line": {
              "color": "#E5ECF6",
              "width": 0.5
             },
             "pattern": {
              "fillmode": "overlay",
              "size": 10,
              "solidity": 0.2
             }
            },
            "type": "barpolar"
           }
          ],
          "carpet": [
           {
            "aaxis": {
             "endlinecolor": "#2a3f5f",
             "gridcolor": "white",
             "linecolor": "white",
             "minorgridcolor": "white",
             "startlinecolor": "#2a3f5f"
            },
            "baxis": {
             "endlinecolor": "#2a3f5f",
             "gridcolor": "white",
             "linecolor": "white",
             "minorgridcolor": "white",
             "startlinecolor": "#2a3f5f"
            },
            "type": "carpet"
           }
          ],
          "choropleth": [
           {
            "colorbar": {
             "outlinewidth": 0,
             "ticks": ""
            },
            "type": "choropleth"
           }
          ],
          "contour": [
           {
            "colorbar": {
             "outlinewidth": 0,
             "ticks": ""
            },
            "colorscale": [
             [
              0,
              "#0d0887"
             ],
             [
              0.1111111111111111,
              "#46039f"
             ],
             [
              0.2222222222222222,
              "#7201a8"
             ],
             [
              0.3333333333333333,
              "#9c179e"
             ],
             [
              0.4444444444444444,
              "#bd3786"
             ],
             [
              0.5555555555555556,
              "#d8576b"
             ],
             [
              0.6666666666666666,
              "#ed7953"
             ],
             [
              0.7777777777777778,
              "#fb9f3a"
             ],
             [
              0.8888888888888888,
              "#fdca26"
             ],
             [
              1,
              "#f0f921"
             ]
            ],
            "type": "contour"
           }
          ],
          "contourcarpet": [
           {
            "colorbar": {
             "outlinewidth": 0,
             "ticks": ""
            },
            "type": "contourcarpet"
           }
          ],
          "heatmap": [
           {
            "colorbar": {
             "outlinewidth": 0,
             "ticks": ""
            },
            "colorscale": [
             [
              0,
              "#0d0887"
             ],
             [
              0.1111111111111111,
              "#46039f"
             ],
             [
              0.2222222222222222,
              "#7201a8"
             ],
             [
              0.3333333333333333,
              "#9c179e"
             ],
             [
              0.4444444444444444,
              "#bd3786"
             ],
             [
              0.5555555555555556,
              "#d8576b"
             ],
             [
              0.6666666666666666,
              "#ed7953"
             ],
             [
              0.7777777777777778,
              "#fb9f3a"
             ],
             [
              0.8888888888888888,
              "#fdca26"
             ],
             [
              1,
              "#f0f921"
             ]
            ],
            "type": "heatmap"
           }
          ],
          "heatmapgl": [
           {
            "colorbar": {
             "outlinewidth": 0,
             "ticks": ""
            },
            "colorscale": [
             [
              0,
              "#0d0887"
             ],
             [
              0.1111111111111111,
              "#46039f"
             ],
             [
              0.2222222222222222,
              "#7201a8"
             ],
             [
              0.3333333333333333,
              "#9c179e"
             ],
             [
              0.4444444444444444,
              "#bd3786"
             ],
             [
              0.5555555555555556,
              "#d8576b"
             ],
             [
              0.6666666666666666,
              "#ed7953"
             ],
             [
              0.7777777777777778,
              "#fb9f3a"
             ],
             [
              0.8888888888888888,
              "#fdca26"
             ],
             [
              1,
              "#f0f921"
             ]
            ],
            "type": "heatmapgl"
           }
          ],
          "histogram": [
           {
            "marker": {
             "pattern": {
              "fillmode": "overlay",
              "size": 10,
              "solidity": 0.2
             }
            },
            "type": "histogram"
           }
          ],
          "histogram2d": [
           {
            "colorbar": {
             "outlinewidth": 0,
             "ticks": ""
            },
            "colorscale": [
             [
              0,
              "#0d0887"
             ],
             [
              0.1111111111111111,
              "#46039f"
             ],
             [
              0.2222222222222222,
              "#7201a8"
             ],
             [
              0.3333333333333333,
              "#9c179e"
             ],
             [
              0.4444444444444444,
              "#bd3786"
             ],
             [
              0.5555555555555556,
              "#d8576b"
             ],
             [
              0.6666666666666666,
              "#ed7953"
             ],
             [
              0.7777777777777778,
              "#fb9f3a"
             ],
             [
              0.8888888888888888,
              "#fdca26"
             ],
             [
              1,
              "#f0f921"
             ]
            ],
            "type": "histogram2d"
           }
          ],
          "histogram2dcontour": [
           {
            "colorbar": {
             "outlinewidth": 0,
             "ticks": ""
            },
            "colorscale": [
             [
              0,
              "#0d0887"
             ],
             [
              0.1111111111111111,
              "#46039f"
             ],
             [
              0.2222222222222222,
              "#7201a8"
             ],
             [
              0.3333333333333333,
              "#9c179e"
             ],
             [
              0.4444444444444444,
              "#bd3786"
             ],
             [
              0.5555555555555556,
              "#d8576b"
             ],
             [
              0.6666666666666666,
              "#ed7953"
             ],
             [
              0.7777777777777778,
              "#fb9f3a"
             ],
             [
              0.8888888888888888,
              "#fdca26"
             ],
             [
              1,
              "#f0f921"
             ]
            ],
            "type": "histogram2dcontour"
           }
          ],
          "mesh3d": [
           {
            "colorbar": {
             "outlinewidth": 0,
             "ticks": ""
            },
            "type": "mesh3d"
           }
          ],
          "parcoords": [
           {
            "line": {
             "colorbar": {
              "outlinewidth": 0,
              "ticks": ""
             }
            },
            "type": "parcoords"
           }
          ],
          "pie": [
           {
            "automargin": true,
            "type": "pie"
           }
          ],
          "scatter": [
           {
            "marker": {
             "colorbar": {
              "outlinewidth": 0,
              "ticks": ""
             }
            },
            "type": "scatter"
           }
          ],
          "scatter3d": [
           {
            "line": {
             "colorbar": {
              "outlinewidth": 0,
              "ticks": ""
             }
            },
            "marker": {
             "colorbar": {
              "outlinewidth": 0,
              "ticks": ""
             }
            },
            "type": "scatter3d"
           }
          ],
          "scattercarpet": [
           {
            "marker": {
             "colorbar": {
              "outlinewidth": 0,
              "ticks": ""
             }
            },
            "type": "scattercarpet"
           }
          ],
          "scattergeo": [
           {
            "marker": {
             "colorbar": {
              "outlinewidth": 0,
              "ticks": ""
             }
            },
            "type": "scattergeo"
           }
          ],
          "scattergl": [
           {
            "marker": {
             "colorbar": {
              "outlinewidth": 0,
              "ticks": ""
             }
            },
            "type": "scattergl"
           }
          ],
          "scattermapbox": [
           {
            "marker": {
             "colorbar": {
              "outlinewidth": 0,
              "ticks": ""
             }
            },
            "type": "scattermapbox"
           }
          ],
          "scatterpolar": [
           {
            "marker": {
             "colorbar": {
              "outlinewidth": 0,
              "ticks": ""
             }
            },
            "type": "scatterpolar"
           }
          ],
          "scatterpolargl": [
           {
            "marker": {
             "colorbar": {
              "outlinewidth": 0,
              "ticks": ""
             }
            },
            "type": "scatterpolargl"
           }
          ],
          "scatterternary": [
           {
            "marker": {
             "colorbar": {
              "outlinewidth": 0,
              "ticks": ""
             }
            },
            "type": "scatterternary"
           }
          ],
          "surface": [
           {
            "colorbar": {
             "outlinewidth": 0,
             "ticks": ""
            },
            "colorscale": [
             [
              0,
              "#0d0887"
             ],
             [
              0.1111111111111111,
              "#46039f"
             ],
             [
              0.2222222222222222,
              "#7201a8"
             ],
             [
              0.3333333333333333,
              "#9c179e"
             ],
             [
              0.4444444444444444,
              "#bd3786"
             ],
             [
              0.5555555555555556,
              "#d8576b"
             ],
             [
              0.6666666666666666,
              "#ed7953"
             ],
             [
              0.7777777777777778,
              "#fb9f3a"
             ],
             [
              0.8888888888888888,
              "#fdca26"
             ],
             [
              1,
              "#f0f921"
             ]
            ],
            "type": "surface"
           }
          ],
          "table": [
           {
            "cells": {
             "fill": {
              "color": "#EBF0F8"
             },
             "line": {
              "color": "white"
             }
            },
            "header": {
             "fill": {
              "color": "#C8D4E3"
             },
             "line": {
              "color": "white"
             }
            },
            "type": "table"
           }
          ]
         },
         "layout": {
          "annotationdefaults": {
           "arrowcolor": "#2a3f5f",
           "arrowhead": 0,
           "arrowwidth": 1
          },
          "autotypenumbers": "strict",
          "coloraxis": {
           "colorbar": {
            "outlinewidth": 0,
            "ticks": ""
           }
          },
          "colorscale": {
           "diverging": [
            [
             0,
             "#8e0152"
            ],
            [
             0.1,
             "#c51b7d"
            ],
            [
             0.2,
             "#de77ae"
            ],
            [
             0.3,
             "#f1b6da"
            ],
            [
             0.4,
             "#fde0ef"
            ],
            [
             0.5,
             "#f7f7f7"
            ],
            [
             0.6,
             "#e6f5d0"
            ],
            [
             0.7,
             "#b8e186"
            ],
            [
             0.8,
             "#7fbc41"
            ],
            [
             0.9,
             "#4d9221"
            ],
            [
             1,
             "#276419"
            ]
           ],
           "sequential": [
            [
             0,
             "#0d0887"
            ],
            [
             0.1111111111111111,
             "#46039f"
            ],
            [
             0.2222222222222222,
             "#7201a8"
            ],
            [
             0.3333333333333333,
             "#9c179e"
            ],
            [
             0.4444444444444444,
             "#bd3786"
            ],
            [
             0.5555555555555556,
             "#d8576b"
            ],
            [
             0.6666666666666666,
             "#ed7953"
            ],
            [
             0.7777777777777778,
             "#fb9f3a"
            ],
            [
             0.8888888888888888,
             "#fdca26"
            ],
            [
             1,
             "#f0f921"
            ]
           ],
           "sequentialminus": [
            [
             0,
             "#0d0887"
            ],
            [
             0.1111111111111111,
             "#46039f"
            ],
            [
             0.2222222222222222,
             "#7201a8"
            ],
            [
             0.3333333333333333,
             "#9c179e"
            ],
            [
             0.4444444444444444,
             "#bd3786"
            ],
            [
             0.5555555555555556,
             "#d8576b"
            ],
            [
             0.6666666666666666,
             "#ed7953"
            ],
            [
             0.7777777777777778,
             "#fb9f3a"
            ],
            [
             0.8888888888888888,
             "#fdca26"
            ],
            [
             1,
             "#f0f921"
            ]
           ]
          },
          "colorway": [
           "#636efa",
           "#EF553B",
           "#00cc96",
           "#ab63fa",
           "#FFA15A",
           "#19d3f3",
           "#FF6692",
           "#B6E880",
           "#FF97FF",
           "#FECB52"
          ],
          "font": {
           "color": "#2a3f5f"
          },
          "geo": {
           "bgcolor": "white",
           "lakecolor": "white",
           "landcolor": "#E5ECF6",
           "showlakes": true,
           "showland": true,
           "subunitcolor": "white"
          },
          "hoverlabel": {
           "align": "left"
          },
          "hovermode": "closest",
          "mapbox": {
           "style": "light"
          },
          "paper_bgcolor": "white",
          "plot_bgcolor": "#E5ECF6",
          "polar": {
           "angularaxis": {
            "gridcolor": "white",
            "linecolor": "white",
            "ticks": ""
           },
           "bgcolor": "#E5ECF6",
           "radialaxis": {
            "gridcolor": "white",
            "linecolor": "white",
            "ticks": ""
           }
          },
          "scene": {
           "xaxis": {
            "backgroundcolor": "#E5ECF6",
            "gridcolor": "white",
            "gridwidth": 2,
            "linecolor": "white",
            "showbackground": true,
            "ticks": "",
            "zerolinecolor": "white"
           },
           "yaxis": {
            "backgroundcolor": "#E5ECF6",
            "gridcolor": "white",
            "gridwidth": 2,
            "linecolor": "white",
            "showbackground": true,
            "ticks": "",
            "zerolinecolor": "white"
           },
           "zaxis": {
            "backgroundcolor": "#E5ECF6",
            "gridcolor": "white",
            "gridwidth": 2,
            "linecolor": "white",
            "showbackground": true,
            "ticks": "",
            "zerolinecolor": "white"
           }
          },
          "shapedefaults": {
           "line": {
            "color": "#2a3f5f"
           }
          },
          "ternary": {
           "aaxis": {
            "gridcolor": "white",
            "linecolor": "white",
            "ticks": ""
           },
           "baxis": {
            "gridcolor": "white",
            "linecolor": "white",
            "ticks": ""
           },
           "bgcolor": "#E5ECF6",
           "caxis": {
            "gridcolor": "white",
            "linecolor": "white",
            "ticks": ""
           }
          },
          "title": {
           "x": 0.05
          },
          "xaxis": {
           "automargin": true,
           "gridcolor": "white",
           "linecolor": "white",
           "ticks": "",
           "title": {
            "standoff": 15
           },
           "zerolinecolor": "white",
           "zerolinewidth": 2
          },
          "yaxis": {
           "automargin": true,
           "gridcolor": "white",
           "linecolor": "white",
           "ticks": "",
           "title": {
            "standoff": 15
           },
           "zerolinecolor": "white",
           "zerolinewidth": 2
          }
         }
        }
       }
      }
     },
     "metadata": {},
     "output_type": "display_data"
    }
   ],
   "source": [
    "import plotly.graph_objects as go\n",
    "feat_importance['avg'] = feat_importance.mean(axis=1)\n",
    "feat_importance = feat_importance.sort_values(by='avg',ascending=True)\n",
    "pal=sns.color_palette(\"plasma_r\", 54).as_hex()[2:]\n",
    "\n",
    "fig=go.Figure()\n",
    "for i in range(len(feat_importance.index)):\n",
    "    fig.add_shape(dict(type=\"line\", y0=i, y1=i, x0=0, x1=feat_importance['avg'][i], \n",
    "                       line_color=pal[::-1][i],opacity=0.7,line_width=4))\n",
    "fig.add_trace(go.Scatter(x=feat_importance['avg'], y=feat_importance.index, mode='markers', \n",
    "                         marker_color=pal[::-1], marker_size=8,\n",
    "                         hovertemplate='%{y} Importance = %{x:.0f}<extra></extra>'))\n",
    "# fig.update_layout(template=temp,title='Overall Feature Importance', \n",
    "#                   xaxis=dict(title='Average Importance',zeroline=False),\n",
    "#                   yaxis_showgrid=False, margin=dict(l=120,t=80),\n",
    "#                   height=700, width=800)\n",
    "fig.show()"
   ]
  },
  {
   "cell_type": "code",
   "execution_count": null,
   "metadata": {},
   "outputs": [],
   "source": []
  }
 ],
 "metadata": {
  "interpreter": {
   "hash": "e6cd93a8e0fbd7c4906fe9db2188c860ed844c8a366021f44681a4d868b9c160"
  },
  "kernelspec": {
   "display_name": "Python 3.9.7 ('base')",
   "language": "python",
   "name": "python3"
  },
  "language_info": {
   "codemirror_mode": {
    "name": "ipython",
    "version": 3
   },
   "file_extension": ".py",
   "mimetype": "text/x-python",
   "name": "python",
   "nbconvert_exporter": "python",
   "pygments_lexer": "ipython3",
   "version": "3.9.7"
  },
  "orig_nbformat": 4
 },
 "nbformat": 4,
 "nbformat_minor": 2
}
